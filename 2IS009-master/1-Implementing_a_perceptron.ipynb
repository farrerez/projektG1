{
 "cells": [
  {
   "cell_type": "markdown",
   "metadata": {},
   "source": [
    "# 1 - Implementing a perceptron\n",
    "\n",
    "In this notebook, we look at how to implement a simple perceptron. We create a single-input perceptron, and a dual-input perceptron. These perceptrons do not do a lot."
   ]
  },
  {
   "cell_type": "code",
   "execution_count": 1,
   "metadata": {},
   "outputs": [],
   "source": [
    "# The step function gives an output of 1 when the input exceeds a certain threshold. \n",
    "def step_function(x, threshold):\n",
    "    if x < threshold:\n",
    "        return 0\n",
    "    elif x >= threshold:\n",
    "        return 1"
   ]
  },
  {
   "cell_type": "code",
   "execution_count": 2,
   "metadata": {},
   "outputs": [],
   "source": [
    "class Perceptron1():\n",
    "    \"\"\"This class implements a 1-input perceptron.\"\"\"\n",
    "    \n",
    "    def __init__(self, w1, threshold, activation_function):\n",
    "        self.w1 = w1\n",
    "        self.threshold = threshold\n",
    "        self.activation_function = activation_function\n",
    "    \n",
    "    def activate(self, x1):\n",
    "        output = self.activation_function(x1 * self.w1, self.threshold)\n",
    "        return output"
   ]
  },
  {
   "cell_type": "code",
   "execution_count": 3,
   "metadata": {},
   "outputs": [
    {
     "data": {
      "text/plain": [
       "0"
      ]
     },
     "execution_count": 3,
     "metadata": {},
     "output_type": "execute_result"
    }
   ],
   "source": [
    "w1 = 0.5\n",
    "threshold = 1\n",
    "\n",
    "p1 = Perceptron1(w1, threshold, step_function)\n",
    "\n",
    "input1 = 1\n",
    "p1.activate(input1)"
   ]
  },
  {
   "cell_type": "code",
   "execution_count": 4,
   "metadata": {},
   "outputs": [],
   "source": [
    "class Perceptron2():\n",
    "    \"\"\"This class implements a 2-input perceptron.\"\"\"\n",
    "    \n",
    "    def __init__(self, w1, w2, threshold, activation_function):\n",
    "        self.w1 = w1\n",
    "        self.w2 = w2\n",
    "        self.threshold = threshold\n",
    "        self.activation_function = activation_function\n",
    "    \n",
    "    def activate(self, x1, x2):\n",
    "        output = self.activation_function(sum([x1 * self.w1, x2 * self.w2]), self.threshold)\n",
    "        return output"
   ]
  },
  {
   "cell_type": "code",
   "execution_count": 5,
   "metadata": {},
   "outputs": [
    {
     "data": {
      "text/plain": [
       "1"
      ]
     },
     "execution_count": 5,
     "metadata": {},
     "output_type": "execute_result"
    }
   ],
   "source": [
    "w1 = 0.5\n",
    "w2 = 0.5\n",
    "threshold = 0.5\n",
    "p2 = Perceptron2(w1, w2, threshold, step_function)\n",
    "\n",
    "input1 = 1\n",
    "input2 = 1\n",
    "p2.activate(input1, input2)"
   ]
  },
  {
   "cell_type": "code",
   "execution_count": 6,
   "metadata": {},
   "outputs": [
    {
     "data": {
      "text/plain": [
       "1"
      ]
     },
     "execution_count": 6,
     "metadata": {},
     "output_type": "execute_result"
    }
   ],
   "source": [
    "first_p = Perceptron1(0.5, 0.5, step_function)\n",
    "second_p = Perceptron1(0.1, 0.5, step_function)\n",
    "\n",
    "output_neuron1 = first_p.activate(1)\n",
    "output_neuron2 = second_p.activate(0)\n",
    "p2.activate(output_neuron1, output_neuron2)"
   ]
  },
  {
   "cell_type": "code",
   "execution_count": null,
   "metadata": {},
   "outputs": [],
   "source": []
  }
 ],
 "metadata": {
  "kernelspec": {
   "display_name": "Python 3",
   "language": "python",
   "name": "python3"
  },
  "language_info": {
   "codemirror_mode": {
    "name": "ipython",
    "version": 3
   },
   "file_extension": ".py",
   "mimetype": "text/x-python",
   "name": "python",
   "nbconvert_exporter": "python",
   "pygments_lexer": "ipython3",
   "version": "3.6.7"
  }
 },
 "nbformat": 4,
 "nbformat_minor": 2
}
